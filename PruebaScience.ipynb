{
 "cells": [
  {
   "cell_type": "code",
   "execution_count": 17,
   "metadata": {},
   "outputs": [
    {
     "name": "stdout",
     "output_type": "stream",
     "text": [
      "                        db-id control_id                 invite_id  \\\n",
      "50   620a6b046c698d64297d3189     0JQS72  620a64bf115c606481d093bc   \n",
      "53   620a6be3a1525664556359ef     1X5TC6  620a608ab0d07664995bec8d   \n",
      "107  620a8da5ac9ce10d742e8993     7Z0HX5  620a63685e1e5064865de50c   \n",
      "144  620ae6227324330db5ed0d74     UZYIU6  620a6088b0d07664995b9a77   \n",
      "232  620eb93c62ab432755237eb0     X90B3C  620a63695e1e5064865e2865   \n",
      "\n",
      "    Tipo Produto Grupo de Produto Familia do Produto Modelo do Produto  \\\n",
      "50        Tipo 1          Grupo 6         Familia 15         Modelo 60   \n",
      "53        Tipo 1          Grupo 6         Familia 15         Modelo 60   \n",
      "107       Tipo 1          Grupo 6         Familia 15         Modelo 60   \n",
      "144       Tipo 1          Grupo 6         Familia 15         Modelo 60   \n",
      "232       Tipo 1          Grupo 6         Familia 15         Modelo 52   \n",
      "\n",
      "    Chassi do Produto Marca do Produto           nome  ...  \\\n",
      "50           Chassi 1          Marca 2   Cliente 1244  ...   \n",
      "53           Chassi 1          Marca 2   Cliente 1244  ...   \n",
      "107         Chassi 80          Marca 2   Cliente 2892  ...   \n",
      "144        Chassi 109          Marca 2  Cliente 10802  ...   \n",
      "232        Chassi 180          Marca 2   Cliente 3042  ...   \n",
      "\n",
      "    ¿cómo evalúa la comodidad y la ergonomía de su <modelo> (considere, por ejemplo, la comodidad de los asientos, la visibilidad de la cabina, la comprensibilidad y la disposición de los controles)? (csat)  \\\n",
      "50                                                 NaN                                                                                                                                                           \n",
      "53                                                 NaN                                                                                                                                                           \n",
      "107                                                NaN                                                                                                                                                           \n",
      "144                                                NaN                                                                                                                                                           \n",
      "232                                                NaN                                                                                                                                                           \n",
      "\n",
      "    ¿ha tenido algún problema con la confiabilidad/calidad en el que necesitaba comunicarse con su distribuidor? (like/dislike)  \\\n",
      "50                                                 NaN                                                                            \n",
      "53                                                 NaN                                                                            \n",
      "107                                                NaN                                                                            \n",
      "144                                                NaN                                                                            \n",
      "232                                                NaN                                                                            \n",
      "\n",
      "    ¿el problema que tuvo afectó su capacidad para trabajar o le impidió trabajar? (like/dislike)  \\\n",
      "50                                                 NaN                                              \n",
      "53                                                 NaN                                              \n",
      "107                                                NaN                                              \n",
      "144                                                NaN                                              \n",
      "232                                                NaN                                              \n",
      "\n",
      "    ¿hubo algún problema que requirió llevar el equipo <modelo> para mantenimiento? (like/dislike)  \\\n",
      "50                                                 NaN                                               \n",
      "53                                                 NaN                                               \n",
      "107                                                NaN                                               \n",
      "144                                                NaN                                               \n",
      "232                                                NaN                                               \n",
      "\n",
      "     ¿se ha resuelto el problema? (like/dislike)  \\\n",
      "50                                           NaN   \n",
      "53                                           NaN   \n",
      "107                                          NaN   \n",
      "144                                          NaN   \n",
      "232                                          NaN   \n",
      "\n",
      "    você pode explicar que tipo de falhas afetaram o sistema elétrico? (like/dislike)  \\\n",
      "50                                                 NaN                                  \n",
      "53                                                 NaN                                  \n",
      "107                                                NaN                                  \n",
      "144                                                NaN                                  \n",
      "232                                                NaN                                  \n",
      "\n",
      "    ¿hubo alguna falla que afectó el sistema eléctrico (batería, alternador, interruptores, cableado y arranque, conexiones)? (like/dislike)  \\\n",
      "50                                                 NaN                                                                                         \n",
      "53                                                 NaN                                                                                         \n",
      "107                                                NaN                                                                                         \n",
      "144                                                NaN                                                                                         \n",
      "232                                                NaN                                                                                         \n",
      "\n",
      "    p3 - como você avalia a qualidade e a confiabilidade do seu <modelo> (considere o acabamento e a aparência da sua máquina, falhas, problemas de confiabilidade ou avarias que você possa ter tido)? (csat)  \\\n",
      "50                                                 NaN                                                                                                                                                           \n",
      "53                                                 NaN                                                                                                                                                           \n",
      "107                                                NaN                                                                                                                                                           \n",
      "144                                                NaN                                                                                                                                                           \n",
      "232                                                NaN                                                                                                                                                           \n",
      "\n",
      "       reacao                                   tag_de_tratativa  \n",
      "50        NaN                                                NaN  \n",
      "53        NaN                                                NaN  \n",
      "107       NaN                                                NaN  \n",
      "144  negativo  CPM - Hidraulico, Pós vendas - Sem peças de re...  \n",
      "232       NaN                                                NaN  \n",
      "\n",
      "[5 rows x 150 columns]\n"
     ]
    }
   ],
   "source": [
    "import pandas as pd\n",
    "\n",
    "# Carregar os dados\n",
    "df = pd.read_excel('Dados.xlsx', engine='openpyxl')\n",
    "\n",
    "# Filtrar para Brasil e Grupo 6\n",
    "df_brasil_grupo6 = df[(df['mercado'] == 'BRASIL') & (df['Grupo de Produto'] == 'Grupo 6')]\n",
    "\n",
    "# Exibir as primeiras linhas para verificar\n",
    "print(df_brasil_grupo6.head())\n"
   ]
  },
  {
   "cell_type": "code",
   "execution_count": 22,
   "metadata": {},
   "outputs": [
    {
     "name": "stdout",
     "output_type": "stream",
     "text": [
      "     nota    target\n",
      "50     10  Promotor\n",
      "53     10  Promotor\n",
      "107     8    Neutro\n",
      "144     2  Detrator\n",
      "232     8    Neutro\n"
     ]
    }
   ],
   "source": [
    "import pandas as pd\n",
    "\n",
    "# Carregar os dados\n",
    "df = pd.read_excel('Dados.xlsx', engine='openpyxl')\n",
    "\n",
    "# Filtrar para Brasil e Grupo 6\n",
    "df_brasil_grupo6 = df[(df['mercado'] == 'BRASIL') & (df['Grupo de Produto'] == 'Grupo 6')].copy()\n",
    "\n",
    "# Função para categorizar a nota\n",
    "def categorize_target(nota):\n",
    "    if nota >= 9:\n",
    "        return 'Promotor'\n",
    "    elif nota >= 7:\n",
    "        return 'Neutro'\n",
    "    else:\n",
    "        return 'Detrator'\n",
    "\n",
    "# Adicionar a coluna 'target' categorizando pela nota usando .loc\n",
    "df_brasil_grupo6.loc[:, 'target'] = df_brasil_grupo6['nota'].apply(categorize_target)\n",
    "\n",
    "# Verificar as primeiras linhas com a nova coluna\n",
    "print(df_brasil_grupo6[['nota', 'target']].head())\n"
   ]
  },
  {
   "cell_type": "code",
   "execution_count": 24,
   "metadata": {},
   "outputs": [
    {
     "name": "stdout",
     "output_type": "stream",
     "text": [
      "      estado        região\n",
      "50        **  desconhecido\n",
      "107       PI      nordeste\n",
      "144       SP       sudeste\n",
      "232       MG       sudeste\n",
      "261      NaN  desconhecido\n",
      "315       PA         norte\n",
      "397       MT  centro-oeste\n",
      "1014      TO         norte\n",
      "1256      PR           sul\n",
      "1628      GO  centro-oeste\n",
      "2006      MS  centro-oeste\n",
      "2110      SC           sul\n",
      "2283      MA      nordeste\n",
      "2422      BA      nordeste\n",
      "3261      RS           sul\n",
      "8614      RO         norte\n",
      "11552     DF  centro-oeste\n"
     ]
    }
   ],
   "source": [
    "# Mapear siglas dos estados para regiões\n",
    "regions_siglas = {\n",
    "    'sul': ['PR', 'SC', 'RS'],\n",
    "    'sudeste': ['SP', 'RJ', 'MG', 'ES'],\n",
    "    'centro-oeste': ['GO', 'MT', 'MS', 'DF'],\n",
    "    'nordeste': ['BA', 'PE', 'CE', 'RN', 'PB', 'SE', 'AL', 'MA', 'PI'],\n",
    "    'norte': ['AM', 'PA', 'AC', 'RO', 'TO', 'RR', 'AP']\n",
    "}\n",
    "\n",
    "def assign_region_from_sigla(estado):\n",
    "    for region, states in regions_siglas.items():\n",
    "        if estado in states:\n",
    "            return region\n",
    "    return 'desconhecido'\n",
    "\n",
    "# Certifique-se de estar aplicando no DataFrame correto\n",
    "df_brasil_grupo6['região'] = df_brasil_grupo6['estado'].apply(assign_region_from_sigla)\n",
    "\n",
    "# Verificar os resultados\n",
    "print(df_brasil_grupo6[['estado', 'região']].drop_duplicates())\n",
    "\n"
   ]
  },
  {
   "cell_type": "code",
   "execution_count": 26,
   "metadata": {},
   "outputs": [
    {
     "name": "stdout",
     "output_type": "stream",
     "text": [
      "           data_resposta  safra\n",
      "50   14/02/2022 11:45:24   2022\n",
      "53   14/02/2022 11:49:07   2022\n",
      "107  14/02/2022 14:13:09   2022\n",
      "144  14/02/2022 20:30:42   2022\n",
      "232  17/02/2022 18:08:12   2022\n"
     ]
    }
   ],
   "source": [
    "# Criar a coluna 'safra' com o ano da data de resposta para o Grupo 6\n",
    "df_brasil_grupo6['safra'] = pd.to_datetime(df_brasil_grupo6['data_resposta'], errors='coerce', dayfirst=True).dt.year\n",
    "\n",
    "# Verificar o resultado\n",
    "print(df_brasil_grupo6[['data_resposta', 'safra']].head())\n"
   ]
  },
  {
   "cell_type": "code",
   "execution_count": 27,
   "metadata": {},
   "outputs": [
    {
     "name": "stdout",
     "output_type": "stream",
     "text": [
      "\n",
      "Volumetria por Target:\n",
      "     target  Total  Percentual\n",
      "0  Detrator     50   10.940919\n",
      "1    Neutro     91   19.912473\n",
      "2  Promotor    316   69.146608\n"
     ]
    }
   ],
   "source": [
    "# Calcular a volumetria do target\n",
    "volumetria_target = df_brasil_grupo6.groupby('target').size().reset_index(name='Total')\n",
    "volumetria_target['Percentual'] = (volumetria_target['Total'] / volumetria_target['Total'].sum()) * 100\n",
    "\n",
    "# Exibir a volumetria\n",
    "print(\"\\nVolumetria por Target:\")\n",
    "print(volumetria_target)\n"
   ]
  },
  {
   "cell_type": "code",
   "execution_count": 28,
   "metadata": {},
   "outputs": [
    {
     "name": "stdout",
     "output_type": "stream",
     "text": [
      "\n",
      "Volumetria por Safra:\n",
      "target  Detrator  Neutro  Promotor  Total  %Promotor    %Neutro  %Detrator\n",
      "safra                                                                     \n",
      "2022          13      25        75    113  66.371681  22.123894  11.504425\n",
      "2023          22      47       142    211  67.298578  22.274882  10.426540\n",
      "2024          15      19        99    133  74.436090  14.285714  11.278195\n"
     ]
    }
   ],
   "source": [
    "# Calcular volumetria por safra\n",
    "volumetria_safra = df_brasil_grupo6.groupby(['safra', 'target']).size().unstack(fill_value=0)\n",
    "volumetria_safra['Total'] = volumetria_safra.sum(axis=1)\n",
    "volumetria_safra['%Promotor'] = (volumetria_safra['Promotor'] / volumetria_safra['Total']) * 100\n",
    "volumetria_safra['%Neutro'] = (volumetria_safra['Neutro'] / volumetria_safra['Total']) * 100\n",
    "volumetria_safra['%Detrator'] = (volumetria_safra['Detrator'] / volumetria_safra['Total']) * 100\n",
    "\n",
    "# Exibir a volumetria\n",
    "print(\"\\nVolumetria por Safra:\")\n",
    "print(volumetria_safra)\n"
   ]
  },
  {
   "cell_type": "code",
   "execution_count": 29,
   "metadata": {},
   "outputs": [
    {
     "name": "stdout",
     "output_type": "stream",
     "text": [
      "\n",
      "Volumetria por Região:\n",
      "target        Promotor  Neutro  Detrator  Total  %Promotor    %Neutro  \\\n",
      "região                                                                  \n",
      "centro-oeste       168      37        26    231  72.727273  16.017316   \n",
      "desconhecido        19       7         7     33  57.575758  21.212121   \n",
      "nordeste            23      14         1     38  60.526316  36.842105   \n",
      "norte               26      15         0     41  63.414634  36.585366   \n",
      "sudeste             42       9         6     57  73.684211  15.789474   \n",
      "sul                 38       9        10     57  66.666667  15.789474   \n",
      "\n",
      "target        %Detrator  \n",
      "região                   \n",
      "centro-oeste  11.255411  \n",
      "desconhecido  21.212121  \n",
      "nordeste       2.631579  \n",
      "norte          0.000000  \n",
      "sudeste       10.526316  \n",
      "sul           17.543860  \n"
     ]
    }
   ],
   "source": [
    "volumetria_regiao = df_brasil_grupo6.groupby(['região', 'target']).size().unstack(fill_value=0)\n",
    "volumetria_regiao = volumetria_regiao.reindex(columns=['Promotor', 'Neutro', 'Detrator'], fill_value=0)\n",
    "volumetria_regiao['Total'] = volumetria_regiao.sum(axis=1)\n",
    "volumetria_regiao['%Promotor'] = (volumetria_regiao['Promotor'] / volumetria_regiao['Total']) * 100\n",
    "volumetria_regiao['%Neutro'] = (volumetria_regiao['Neutro'] / volumetria_regiao['Total']) * 100\n",
    "volumetria_regiao['%Detrator'] = (volumetria_regiao['Detrator'] / volumetria_regiao['Total']) * 100\n",
    "print(\"\\nVolumetria por Região:\")\n",
    "print(volumetria_regiao)\n"
   ]
  },
  {
   "cell_type": "code",
   "execution_count": 13,
   "metadata": {},
   "outputs": [
    {
     "name": "stdout",
     "output_type": "stream",
     "text": [
      "Estados Desconhecidos: ['**']\n"
     ]
    }
   ],
   "source": []
  },
  {
   "cell_type": "code",
   "execution_count": 14,
   "metadata": {},
   "outputs": [
    {
     "name": "stdout",
     "output_type": "stream",
     "text": [
      "Regiões diferentes no modelo: ['sudeste' 'desconhecido' 'nordeste']\n"
     ]
    }
   ],
   "source": []
  }
 ],
 "metadata": {
  "kernelspec": {
   "display_name": "Python 3",
   "language": "python",
   "name": "python3"
  },
  "language_info": {
   "codemirror_mode": {
    "name": "ipython",
    "version": 3
   },
   "file_extension": ".py",
   "mimetype": "text/x-python",
   "name": "python",
   "nbconvert_exporter": "python",
   "pygments_lexer": "ipython3",
   "version": "3.11.9"
  }
 },
 "nbformat": 4,
 "nbformat_minor": 2
}
